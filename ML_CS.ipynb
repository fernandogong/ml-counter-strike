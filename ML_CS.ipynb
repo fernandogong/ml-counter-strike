{
  "cells": [
    {
      "cell_type": "markdown",
      "metadata": {
        "id": "b0lKjUZsPhLu"
      },
      "source": [
        "# Machine Learning: Counter-Strike"
      ]
    },
    {
      "cell_type": "markdown",
      "source": [
        "No arquivo cs_data.csv há dados de jogadores de CS.\n",
        "\n",
        "- **Player Name:** nome do jogador;\n",
        "- **Ping:** calculo em milésimos de segundo da velocidade de comunicação entre cliente e servidor;\n",
        "- **Kills:** quantidade de abates;\n",
        "- **Assists:** assistências do jogador;\n",
        "- **Deaths:** mortes;\n",
        "- **MVP:** quantidade de \"melhor desempenho\";\n",
        "- **HSP:** percentagem de tiros na cabeça;\n",
        "- **Score:** pontuação do jogador."
      ],
      "metadata": {
        "id": "EJ0LDAmUYOE5"
      }
    },
    {
      "cell_type": "markdown",
      "source": [
        "### 1. Exploração de dados"
      ],
      "metadata": {
        "id": "fFw0a5Pkx4n_"
      }
    },
    {
      "cell_type": "code",
      "source": [
        "# importando bibliotecas\n",
        "import pandas as pd\n",
        "import numpy as np\n",
        "import matplotlib.pyplot as plt"
      ],
      "metadata": {
        "id": "m_-80EVoyYoR"
      },
      "execution_count": 39,
      "outputs": []
    },
    {
      "cell_type": "code",
      "execution_count": 40,
      "metadata": {
        "id": "GZHxf-UePhLy"
      },
      "outputs": [],
      "source": [
        "df1 = pd.read_csv('cs_data.csv', encoding='UTF-8', sep=',')"
      ]
    },
    {
      "cell_type": "code",
      "source": [
        "df1"
      ],
      "metadata": {
        "colab": {
          "base_uri": "https://localhost:8080/",
          "height": 424
        },
        "id": "xv1ue25OikzF",
        "outputId": "bfa88856-9d7c-452a-fc3f-85deae56824b"
      },
      "execution_count": 41,
      "outputs": [
        {
          "output_type": "execute_result",
          "data": {
            "text/plain": [
              "              Player Name  Ping  Kills  Assists  Deaths  MVP  HSP  Score\n",
              "0                     DNB    45     38        4      20    8   42     90\n",
              "1                  link1n    31     22        3      17    5   54     51\n",
              "2                    sn0w    42     14        4      20    0   40     42\n",
              "3             reedkihaddi    90     13        3      23    0   28     33\n",
              "4                  pEhnol    33     11        4      27    0   54     26\n",
              "...                   ...   ...    ...      ...     ...  ...  ...    ...\n",
              "22919           Ned Stark    23     18        3      12    5   33     47\n",
              "22920              abhi17    32     20        1       9    3   45     43\n",
              "22921     //MORTAL-SOUL->    10     16        1       9    3   25     41\n",
              "22922  Vac_Banned_Badluck     8     17        2      13    4   17     39\n",
              "22923            DaNooBro    31     15        4      10    0    6     38\n",
              "\n",
              "[22924 rows x 8 columns]"
            ],
            "text/html": [
              "\n",
              "  <div id=\"df-1b971c90-d161-4199-88fe-baed31364b5a\">\n",
              "    <div class=\"colab-df-container\">\n",
              "      <div>\n",
              "<style scoped>\n",
              "    .dataframe tbody tr th:only-of-type {\n",
              "        vertical-align: middle;\n",
              "    }\n",
              "\n",
              "    .dataframe tbody tr th {\n",
              "        vertical-align: top;\n",
              "    }\n",
              "\n",
              "    .dataframe thead th {\n",
              "        text-align: right;\n",
              "    }\n",
              "</style>\n",
              "<table border=\"1\" class=\"dataframe\">\n",
              "  <thead>\n",
              "    <tr style=\"text-align: right;\">\n",
              "      <th></th>\n",
              "      <th>Player Name</th>\n",
              "      <th>Ping</th>\n",
              "      <th>Kills</th>\n",
              "      <th>Assists</th>\n",
              "      <th>Deaths</th>\n",
              "      <th>MVP</th>\n",
              "      <th>HSP</th>\n",
              "      <th>Score</th>\n",
              "    </tr>\n",
              "  </thead>\n",
              "  <tbody>\n",
              "    <tr>\n",
              "      <th>0</th>\n",
              "      <td>DNB</td>\n",
              "      <td>45</td>\n",
              "      <td>38</td>\n",
              "      <td>4</td>\n",
              "      <td>20</td>\n",
              "      <td>8</td>\n",
              "      <td>42</td>\n",
              "      <td>90</td>\n",
              "    </tr>\n",
              "    <tr>\n",
              "      <th>1</th>\n",
              "      <td>link1n</td>\n",
              "      <td>31</td>\n",
              "      <td>22</td>\n",
              "      <td>3</td>\n",
              "      <td>17</td>\n",
              "      <td>5</td>\n",
              "      <td>54</td>\n",
              "      <td>51</td>\n",
              "    </tr>\n",
              "    <tr>\n",
              "      <th>2</th>\n",
              "      <td>sn0w</td>\n",
              "      <td>42</td>\n",
              "      <td>14</td>\n",
              "      <td>4</td>\n",
              "      <td>20</td>\n",
              "      <td>0</td>\n",
              "      <td>40</td>\n",
              "      <td>42</td>\n",
              "    </tr>\n",
              "    <tr>\n",
              "      <th>3</th>\n",
              "      <td>reedkihaddi</td>\n",
              "      <td>90</td>\n",
              "      <td>13</td>\n",
              "      <td>3</td>\n",
              "      <td>23</td>\n",
              "      <td>0</td>\n",
              "      <td>28</td>\n",
              "      <td>33</td>\n",
              "    </tr>\n",
              "    <tr>\n",
              "      <th>4</th>\n",
              "      <td>pEhnol</td>\n",
              "      <td>33</td>\n",
              "      <td>11</td>\n",
              "      <td>4</td>\n",
              "      <td>27</td>\n",
              "      <td>0</td>\n",
              "      <td>54</td>\n",
              "      <td>26</td>\n",
              "    </tr>\n",
              "    <tr>\n",
              "      <th>...</th>\n",
              "      <td>...</td>\n",
              "      <td>...</td>\n",
              "      <td>...</td>\n",
              "      <td>...</td>\n",
              "      <td>...</td>\n",
              "      <td>...</td>\n",
              "      <td>...</td>\n",
              "      <td>...</td>\n",
              "    </tr>\n",
              "    <tr>\n",
              "      <th>22919</th>\n",
              "      <td>Ned Stark</td>\n",
              "      <td>23</td>\n",
              "      <td>18</td>\n",
              "      <td>3</td>\n",
              "      <td>12</td>\n",
              "      <td>5</td>\n",
              "      <td>33</td>\n",
              "      <td>47</td>\n",
              "    </tr>\n",
              "    <tr>\n",
              "      <th>22920</th>\n",
              "      <td>abhi17</td>\n",
              "      <td>32</td>\n",
              "      <td>20</td>\n",
              "      <td>1</td>\n",
              "      <td>9</td>\n",
              "      <td>3</td>\n",
              "      <td>45</td>\n",
              "      <td>43</td>\n",
              "    </tr>\n",
              "    <tr>\n",
              "      <th>22921</th>\n",
              "      <td>//MORTAL-SOUL-&gt;</td>\n",
              "      <td>10</td>\n",
              "      <td>16</td>\n",
              "      <td>1</td>\n",
              "      <td>9</td>\n",
              "      <td>3</td>\n",
              "      <td>25</td>\n",
              "      <td>41</td>\n",
              "    </tr>\n",
              "    <tr>\n",
              "      <th>22922</th>\n",
              "      <td>Vac_Banned_Badluck</td>\n",
              "      <td>8</td>\n",
              "      <td>17</td>\n",
              "      <td>2</td>\n",
              "      <td>13</td>\n",
              "      <td>4</td>\n",
              "      <td>17</td>\n",
              "      <td>39</td>\n",
              "    </tr>\n",
              "    <tr>\n",
              "      <th>22923</th>\n",
              "      <td>DaNooBro</td>\n",
              "      <td>31</td>\n",
              "      <td>15</td>\n",
              "      <td>4</td>\n",
              "      <td>10</td>\n",
              "      <td>0</td>\n",
              "      <td>6</td>\n",
              "      <td>38</td>\n",
              "    </tr>\n",
              "  </tbody>\n",
              "</table>\n",
              "<p>22924 rows × 8 columns</p>\n",
              "</div>\n",
              "      <button class=\"colab-df-convert\" onclick=\"convertToInteractive('df-1b971c90-d161-4199-88fe-baed31364b5a')\"\n",
              "              title=\"Convert this dataframe to an interactive table.\"\n",
              "              style=\"display:none;\">\n",
              "        \n",
              "  <svg xmlns=\"http://www.w3.org/2000/svg\" height=\"24px\"viewBox=\"0 0 24 24\"\n",
              "       width=\"24px\">\n",
              "    <path d=\"M0 0h24v24H0V0z\" fill=\"none\"/>\n",
              "    <path d=\"M18.56 5.44l.94 2.06.94-2.06 2.06-.94-2.06-.94-.94-2.06-.94 2.06-2.06.94zm-11 1L8.5 8.5l.94-2.06 2.06-.94-2.06-.94L8.5 2.5l-.94 2.06-2.06.94zm10 10l.94 2.06.94-2.06 2.06-.94-2.06-.94-.94-2.06-.94 2.06-2.06.94z\"/><path d=\"M17.41 7.96l-1.37-1.37c-.4-.4-.92-.59-1.43-.59-.52 0-1.04.2-1.43.59L10.3 9.45l-7.72 7.72c-.78.78-.78 2.05 0 2.83L4 21.41c.39.39.9.59 1.41.59.51 0 1.02-.2 1.41-.59l7.78-7.78 2.81-2.81c.8-.78.8-2.07 0-2.86zM5.41 20L4 18.59l7.72-7.72 1.47 1.35L5.41 20z\"/>\n",
              "  </svg>\n",
              "      </button>\n",
              "      \n",
              "  <style>\n",
              "    .colab-df-container {\n",
              "      display:flex;\n",
              "      flex-wrap:wrap;\n",
              "      gap: 12px;\n",
              "    }\n",
              "\n",
              "    .colab-df-convert {\n",
              "      background-color: #E8F0FE;\n",
              "      border: none;\n",
              "      border-radius: 50%;\n",
              "      cursor: pointer;\n",
              "      display: none;\n",
              "      fill: #1967D2;\n",
              "      height: 32px;\n",
              "      padding: 0 0 0 0;\n",
              "      width: 32px;\n",
              "    }\n",
              "\n",
              "    .colab-df-convert:hover {\n",
              "      background-color: #E2EBFA;\n",
              "      box-shadow: 0px 1px 2px rgba(60, 64, 67, 0.3), 0px 1px 3px 1px rgba(60, 64, 67, 0.15);\n",
              "      fill: #174EA6;\n",
              "    }\n",
              "\n",
              "    [theme=dark] .colab-df-convert {\n",
              "      background-color: #3B4455;\n",
              "      fill: #D2E3FC;\n",
              "    }\n",
              "\n",
              "    [theme=dark] .colab-df-convert:hover {\n",
              "      background-color: #434B5C;\n",
              "      box-shadow: 0px 1px 3px 1px rgba(0, 0, 0, 0.15);\n",
              "      filter: drop-shadow(0px 1px 2px rgba(0, 0, 0, 0.3));\n",
              "      fill: #FFFFFF;\n",
              "    }\n",
              "  </style>\n",
              "\n",
              "      <script>\n",
              "        const buttonEl =\n",
              "          document.querySelector('#df-1b971c90-d161-4199-88fe-baed31364b5a button.colab-df-convert');\n",
              "        buttonEl.style.display =\n",
              "          google.colab.kernel.accessAllowed ? 'block' : 'none';\n",
              "\n",
              "        async function convertToInteractive(key) {\n",
              "          const element = document.querySelector('#df-1b971c90-d161-4199-88fe-baed31364b5a');\n",
              "          const dataTable =\n",
              "            await google.colab.kernel.invokeFunction('convertToInteractive',\n",
              "                                                     [key], {});\n",
              "          if (!dataTable) return;\n",
              "\n",
              "          const docLinkHtml = 'Like what you see? Visit the ' +\n",
              "            '<a target=\"_blank\" href=https://colab.research.google.com/notebooks/data_table.ipynb>data table notebook</a>'\n",
              "            + ' to learn more about interactive tables.';\n",
              "          element.innerHTML = '';\n",
              "          dataTable['output_type'] = 'display_data';\n",
              "          await google.colab.output.renderOutput(dataTable, element);\n",
              "          const docLink = document.createElement('div');\n",
              "          docLink.innerHTML = docLinkHtml;\n",
              "          element.appendChild(docLink);\n",
              "        }\n",
              "      </script>\n",
              "    </div>\n",
              "  </div>\n",
              "  "
            ]
          },
          "metadata": {},
          "execution_count": 41
        }
      ]
    },
    {
      "cell_type": "markdown",
      "source": [
        "### 2. Análise descritiva"
      ],
      "metadata": {
        "id": "KmeuVxdSyu9Y"
      }
    },
    {
      "cell_type": "markdown",
      "source": [
        "**COMANDO:** Crie um modelo de Aprendizado de Máquina capaz de prever o **Score** do jogador com o menor número de colunas possível, mantendo um R² de teste maior do que 0.9. Quais foram as colunas selecionadas? Faz sentido?"
      ],
      "metadata": {
        "id": "5RfEaQsQYaMg"
      }
    },
    {
      "cell_type": "code",
      "source": [
        "df1.info()"
      ],
      "metadata": {
        "colab": {
          "base_uri": "https://localhost:8080/"
        },
        "id": "1p6u_1C6yuAF",
        "outputId": "7f5902f9-10c1-4847-dc7f-fc1bf295c191"
      },
      "execution_count": 42,
      "outputs": [
        {
          "output_type": "stream",
          "name": "stdout",
          "text": [
            "<class 'pandas.core.frame.DataFrame'>\n",
            "RangeIndex: 22924 entries, 0 to 22923\n",
            "Data columns (total 8 columns):\n",
            " #   Column       Non-Null Count  Dtype \n",
            "---  ------       --------------  ----- \n",
            " 0   Player Name  22924 non-null  object\n",
            " 1   Ping         22924 non-null  int64 \n",
            " 2   Kills        22924 non-null  int64 \n",
            " 3   Assists      22924 non-null  int64 \n",
            " 4   Deaths       22924 non-null  int64 \n",
            " 5   MVP          22924 non-null  int64 \n",
            " 6   HSP          22924 non-null  int64 \n",
            " 7   Score        22924 non-null  int64 \n",
            "dtypes: int64(7), object(1)\n",
            "memory usage: 1.4+ MB\n"
          ]
        }
      ]
    },
    {
      "cell_type": "markdown",
      "source": [
        "**EXPLICAÇÃO:** O dataset tem no total 22924 linhas de dados. Todas as colunas correspondem a esse valor, logo, não há dados faltantes."
      ],
      "metadata": {
        "id": "4jkPOn2lGGTM"
      }
    },
    {
      "cell_type": "code",
      "source": [
        "import seaborn as sns \n",
        "correlation_matrix = df1.drop(columns=['Player Name']).corr().round(2)\n",
        "\n",
        "fig, ax = plt.subplots(figsize=(10,10))    \n",
        "sns.heatmap(data=correlation_matrix, annot=True, linewidths=.5, ax=ax)"
      ],
      "metadata": {
        "colab": {
          "base_uri": "https://localhost:8080/",
          "height": 853
        },
        "id": "-XFIN4iAjH-1",
        "outputId": "a2683726-b752-4607-afa8-7d9d7d05e2e7"
      },
      "execution_count": 43,
      "outputs": [
        {
          "output_type": "execute_result",
          "data": {
            "text/plain": [
              "<Axes: >"
            ]
          },
          "metadata": {},
          "execution_count": 43
        },
        {
          "output_type": "display_data",
          "data": {
            "text/plain": [
              "<Figure size 1000x1000 with 2 Axes>"
            ],
            "image/png": "[encoded data removed]"
          },
          "metadata": {}
        }
      ]
    },
    {
      "cell_type": "markdown",
      "source": [
        "**EXPLICAÇÃO:** Esse último gráfico mostra uma matriz de correlação entre as colunas. Já que, no primeiro momento, o objetivo é ver se o atributo 'kills' tem relação direta com o 'score'."
      ],
      "metadata": {
        "id": "nZ6A5sbDGQXl"
      }
    },
    {
      "cell_type": "code",
      "source": [
        "plt.figure(figsize=(12, 6))\n",
        "\n",
        "# calcular os coeficientes da equação da linha de regressão linear\n",
        "coef = np.polyfit(df1['Kills'], df1['Score'], 1)\n",
        "m = coef[0]  # Coeficiente angular\n",
        "b = coef[1]  # Coeficiente linear\n",
        "\n",
        "#y = mx + b --- equação para visualizar a linha vermelha\n",
        "\n",
        "plt.scatter(df1['Kills'], df1['Score'])\n",
        "plt.plot(df1['Kills'], m*df1['Kills']+b, color='red')\n",
        "plt.xlabel('Kills')\n",
        "plt.ylabel('Score')\n",
        "plt.show()"
      ],
      "metadata": {
        "colab": {
          "base_uri": "https://localhost:8080/",
          "height": 542
        },
        "id": "kI8B42lJjogN",
        "outputId": "04425842-1c7a-47b9-b4cf-56d7d82f7853"
      },
      "execution_count": 44,
      "outputs": [
        {
          "output_type": "display_data",
          "data": {
            "text/plain": [
              "<Figure size 1200x600 with 1 Axes>"
            ],
            "image/png": "[encoded data removed]"
          },
          "metadata": {}
        }
      ]
    },
    {
      "cell_type": "markdown",
      "source": [
        "**EXPLICAÇÃO:** A partir do gráfico acima, vemos que há uma grande relação direta entre kills e score do jogador."
      ],
      "metadata": {
        "id": "IdXo9qKgxGEA"
      }
    },
    {
      "cell_type": "markdown",
      "source": [
        "### 3. Tratamento dos dados"
      ],
      "metadata": {
        "id": "uwm5pau5eyPH"
      }
    },
    {
      "cell_type": "code",
      "source": [
        "fig, axes = plt.subplots(2, 4, figsize=(10,8))\n",
        "\n",
        "for i, column in enumerate(['Ping', 'Kills', 'Assists', 'Deaths', 'MVP', 'HSP', 'Score']):\n",
        "    ax = axes.flatten()[i]\n",
        "    ax.boxplot(df1[column])\n",
        "    ax.set_title(column.lower())\n",
        "\n",
        "# Remove o último gráfico vazio\n",
        "fig.delaxes(axes[1,3])\n",
        "\n",
        "plt.tight_layout()\n",
        "plt.show()"
      ],
      "metadata": {
        "colab": {
          "base_uri": "https://localhost:8080/",
          "height": 807
        },
        "id": "hGLkVT8we1d9",
        "outputId": "d16a36c8-3a9a-4ba6-a3ce-f0bd4dfeb3a5"
      },
      "execution_count": 45,
      "outputs": [
        {
          "output_type": "display_data",
          "data": {
            "text/plain": [
              "<Figure size 1000x800 with 7 Axes>"
            ],
            "image/png": "[encoded data removed]"
          },
          "metadata": {}
        }
      ]
    },
    {
      "cell_type": "markdown",
      "source": [
        "**EXPLICAÇÃO:** Observamos que no dataset há muitos outliers, vamos tentar tratar alguns deles.\n",
        "\n",
        "A coluna 'ping' não pode ser tratada, pois futuramente usaremos os seus maiores valores para fazer um estudo."
      ],
      "metadata": {
        "id": "KHiJJHYyjZYT"
      }
    },
    {
      "cell_type": "code",
      "source": [
        "# Lista com as colunas a serem tratadas\n",
        "cols = ['Kills', 'Assists', 'Deaths', 'MVP', 'HSP', 'Score']\n",
        "\n",
        "# Loop para remover os outliers em cada coluna\n",
        "for col in cols:\n",
        "    # Cálculo do Z-score\n",
        "    z_score = (df1[col] - df1[col].mean()) / df1[col].std()\n",
        "    # Remoção dos outliers\n",
        "    df2 = df1.loc[abs(z_score) <= 3]\n"
      ],
      "metadata": {
        "id": "Hoeu9OjuhpDc"
      },
      "execution_count": 75,
      "outputs": []
    },
    {
      "cell_type": "code",
      "source": [
        "fig, axes = plt.subplots(2, 4, figsize=(20,8))\n",
        "\n",
        "for i, column in enumerate(['Ping', 'Kills', 'Assists', 'Deaths', 'MVP', 'HSP', 'Score']):\n",
        "    ax = axes.flatten()[i]\n",
        "    ax.boxplot(df2[column])\n",
        "    ax.set_title(column.lower())\n",
        "\n",
        "# Remove o último gráfico vazio\n",
        "fig.delaxes(axes[1,3])\n",
        "\n",
        "plt.tight_layout()\n",
        "plt.show()"
      ],
      "metadata": {
        "colab": {
          "base_uri": "https://localhost:8080/",
          "height": 589
        },
        "id": "SfZUNZSYiW95",
        "outputId": "c4035cb3-6dc8-4740-ae03-b9e64167ff34"
      },
      "execution_count": 47,
      "outputs": [
        {
          "output_type": "display_data",
          "data": {
            "text/plain": [
              "<Figure size 2000x800 with 7 Axes>"
            ],
            "image/png": "[encoded data removed]"
          },
          "metadata": {}
        }
      ]
    },
    {
      "cell_type": "markdown",
      "source": [
        "### 4. Treino e teste do modelo"
      ],
      "metadata": {
        "id": "DD-6sX_uwS9N"
      }
    },
    {
      "cell_type": "markdown",
      "source": [
        "#### a) Relação de kills e score"
      ],
      "metadata": {
        "id": "tx9YF4rMwunm"
      }
    },
    {
      "cell_type": "code",
      "source": [
        "#!pip install boruta\n",
        "\n",
        "from boruta import BorutaPy\n",
        "from sklearn.ensemble import RandomForestRegressor\n",
        "\n",
        "X_boruta = df2.drop(columns=['Player Name', 'Score'])\n",
        "y_boruta = df2['Score']\n",
        "\n",
        "rfr = RandomForestRegressor()\n",
        "boruta = BorutaPy(rfr, n_estimators='auto', verbose=2, max_iter=50)\n",
        "boruta.fit(X_boruta.values, y_boruta.values)\n",
        "\n",
        "cols = [(nome, ranking) for nome, ranking in zip(X_boruta.columns, boruta.ranking_)]\n",
        "cols = sorted(cols, key=lambda x: x[1])\n",
        "\n",
        "# Imprima os nomes das colunas selecionadas e seus respectivos rankings\n",
        "print()\n",
        "print(\"RANKING\")\n",
        "print()\n",
        "for nome, ranking in cols:\n",
        "    print(f\"{nome}: {ranking}\")"
      ],
      "metadata": {
        "colab": {
          "base_uri": "https://localhost:8080/"
        },
        "id": "xoZCswykl3Th",
        "outputId": "ec1cf63e-d912-439b-f8af-0729b9e28e4b"
      },
      "execution_count": 51,
      "outputs": [
        {
          "output_type": "stream",
          "name": "stdout",
          "text": [
            "Iteration: \t1 / 50\n",
            "Confirmed: \t0\n",
            "Tentative: \t6\n",
            "Rejected: \t0\n",
            "Iteration: \t2 / 50\n",
            "Confirmed: \t0\n",
            "Tentative: \t6\n",
            "Rejected: \t0\n",
            "Iteration: \t3 / 50\n",
            "Confirmed: \t0\n",
            "Tentative: \t6\n",
            "Rejected: \t0\n",
            "Iteration: \t4 / 50\n",
            "Confirmed: \t0\n",
            "Tentative: \t6\n",
            "Rejected: \t0\n",
            "Iteration: \t5 / 50\n",
            "Confirmed: \t0\n",
            "Tentative: \t6\n",
            "Rejected: \t0\n",
            "Iteration: \t6 / 50\n",
            "Confirmed: \t0\n",
            "Tentative: \t6\n",
            "Rejected: \t0\n",
            "Iteration: \t7 / 50\n",
            "Confirmed: \t0\n",
            "Tentative: \t6\n",
            "Rejected: \t0\n",
            "Iteration: \t8 / 50\n",
            "Confirmed: \t3\n",
            "Tentative: \t1\n",
            "Rejected: \t2\n",
            "Iteration: \t9 / 50\n",
            "Confirmed: \t3\n",
            "Tentative: \t1\n",
            "Rejected: \t2\n",
            "Iteration: \t10 / 50\n",
            "Confirmed: \t3\n",
            "Tentative: \t1\n",
            "Rejected: \t2\n",
            "Iteration: \t11 / 50\n",
            "Confirmed: \t3\n",
            "Tentative: \t1\n",
            "Rejected: \t2\n",
            "Iteration: \t12 / 50\n",
            "Confirmed: \t3\n",
            "Tentative: \t1\n",
            "Rejected: \t2\n",
            "Iteration: \t13 / 50\n",
            "Confirmed: \t3\n",
            "Tentative: \t1\n",
            "Rejected: \t2\n",
            "Iteration: \t14 / 50\n",
            "Confirmed: \t3\n",
            "Tentative: \t1\n",
            "Rejected: \t2\n",
            "Iteration: \t15 / 50\n",
            "Confirmed: \t3\n",
            "Tentative: \t1\n",
            "Rejected: \t2\n",
            "Iteration: \t16 / 50\n",
            "Confirmed: \t3\n",
            "Tentative: \t1\n",
            "Rejected: \t2\n",
            "Iteration: \t17 / 50\n",
            "Confirmed: \t3\n",
            "Tentative: \t1\n",
            "Rejected: \t2\n",
            "Iteration: \t18 / 50\n",
            "Confirmed: \t3\n",
            "Tentative: \t1\n",
            "Rejected: \t2\n",
            "Iteration: \t19 / 50\n",
            "Confirmed: \t3\n",
            "Tentative: \t1\n",
            "Rejected: \t2\n",
            "Iteration: \t20 / 50\n",
            "Confirmed: \t3\n",
            "Tentative: \t1\n",
            "Rejected: \t2\n",
            "Iteration: \t21 / 50\n",
            "Confirmed: \t3\n",
            "Tentative: \t1\n",
            "Rejected: \t2\n",
            "Iteration: \t22 / 50\n",
            "Confirmed: \t4\n",
            "Tentative: \t0\n",
            "Rejected: \t2\n",
            "\n",
            "\n",
            "BorutaPy finished running.\n",
            "\n",
            "Iteration: \t23 / 50\n",
            "Confirmed: \t4\n",
            "Tentative: \t0\n",
            "Rejected: \t2\n",
            "\n",
            "RANKING\n",
            "\n",
            "Ping: 1\n",
            "Kills: 1\n",
            "Assists: 1\n",
            "MVP: 1\n",
            "Deaths: 2\n",
            "HSP: 3\n"
          ]
        }
      ]
    },
    {
      "cell_type": "markdown",
      "source": [
        "**EXPLICAÇÃO:** Usando o boruta, vemos que tem 4 colunas que tem boa relação com o 'score'."
      ],
      "metadata": {
        "id": "BLC6Dk-UdtoE"
      }
    },
    {
      "cell_type": "code",
      "source": [
        "from sklearn.model_selection import train_test_split\n",
        "from sklearn.preprocessing import StandardScaler\n",
        "\n",
        "scaler = StandardScaler()\n",
        "\n",
        "X = df2[['Kills']]\n",
        "y = df2['Score']\n",
        "\n",
        "X_train, X_test, y_train, y_test = train_test_split(X, y, test_size = 0.1, random_state = 100)\n",
        "\n",
        "X_train_scaled = scaler.fit_transform(X_train)\n",
        "X_test_scaled = scaler.transform(X_test)"
      ],
      "metadata": {
        "id": "ZWFypAtQjoqQ"
      },
      "execution_count": 52,
      "outputs": []
    },
    {
      "cell_type": "code",
      "source": [
        "rfr.fit(X_train_scaled, y_train)"
      ],
      "metadata": {
        "colab": {
          "base_uri": "https://localhost:8080/",
          "height": 92
        },
        "id": "AImIqpMEi9Gl",
        "outputId": "559f7ec2-26f9-4708-a6fe-3c0d774b5c80"
      },
      "execution_count": 53,
      "outputs": [
        {
          "output_type": "execute_result",
          "data": {
            "text/plain": [
              "RandomForestRegressor(n_estimators=28,\n",
              "                      random_state=RandomState(MT19937) at 0x7F2F28253840)"
            ],
            "text/html": [
              "<style>#sk-container-id-3 {color: black;background-color: white;}#sk-container-id-3 pre{padding: 0;}#sk-container-id-3 div.sk-toggleable {background-color: white;}#sk-container-id-3 label.sk-toggleable__label {cursor: pointer;display: block;width: 100%;margin-bottom: 0;padding: 0.3em;box-sizing: border-box;text-align: center;}#sk-container-id-3 label.sk-toggleable__label-arrow:before {content: \"▸\";float: left;margin-right: 0.25em;color: #696969;}#sk-container-id-3 label.sk-toggleable__label-arrow:hover:before {color: black;}#sk-container-id-3 div.sk-estimator:hover label.sk-toggleable__label-arrow:before {color: black;}#sk-container-id-3 div.sk-toggleable__content {max-height: 0;max-width: 0;overflow: hidden;text-align: left;background-color: #f0f8ff;}#sk-container-id-3 div.sk-toggleable__content pre {margin: 0.2em;color: black;border-radius: 0.25em;background-color: #f0f8ff;}#sk-container-id-3 input.sk-toggleable__control:checked~div.sk-toggleable__content {max-height: 200px;max-width: 100%;overflow: auto;}#sk-container-id-3 input.sk-toggleable__control:checked~label.sk-toggleable__label-arrow:before {content: \"▾\";}#sk-container-id-3 div.sk-estimator input.sk-toggleable__control:checked~label.sk-toggleable__label {background-color: #d4ebff;}#sk-container-id-3 div.sk-label input.sk-toggleable__control:checked~label.sk-toggleable__label {background-color: #d4ebff;}#sk-container-id-3 input.sk-hidden--visually {border: 0;clip: rect(1px 1px 1px 1px);clip: rect(1px, 1px, 1px, 1px);height: 1px;margin: -1px;overflow: hidden;padding: 0;position: absolute;width: 1px;}#sk-container-id-3 div.sk-estimator {font-family: monospace;background-color: #f0f8ff;border: 1px dotted black;border-radius: 0.25em;box-sizing: border-box;margin-bottom: 0.5em;}#sk-container-id-3 div.sk-estimator:hover {background-color: #d4ebff;}#sk-container-id-3 div.sk-parallel-item::after {content: \"\";width: 100%;border-bottom: 1px solid gray;flex-grow: 1;}#sk-container-id-3 div.sk-label:hover label.sk-toggleable__label {background-color: #d4ebff;}#sk-container-id-3 div.sk-serial::before {content: \"\";position: absolute;border-left: 1px solid gray;box-sizing: border-box;top: 0;bottom: 0;left: 50%;z-index: 0;}#sk-container-id-3 div.sk-serial {display: flex;flex-direction: column;align-items: center;background-color: white;padding-right: 0.2em;padding-left: 0.2em;position: relative;}#sk-container-id-3 div.sk-item {position: relative;z-index: 1;}#sk-container-id-3 div.sk-parallel {display: flex;align-items: stretch;justify-content: center;background-color: white;position: relative;}#sk-container-id-3 div.sk-item::before, #sk-container-id-3 div.sk-parallel-item::before {content: \"\";position: absolute;border-left: 1px solid gray;box-sizing: border-box;top: 0;bottom: 0;left: 50%;z-index: -1;}#sk-container-id-3 div.sk-parallel-item {display: flex;flex-direction: column;z-index: 1;position: relative;background-color: white;}#sk-container-id-3 div.sk-parallel-item:first-child::after {align-self: flex-end;width: 50%;}#sk-container-id-3 div.sk-parallel-item:last-child::after {align-self: flex-start;width: 50%;}#sk-container-id-3 div.sk-parallel-item:only-child::after {width: 0;}#sk-container-id-3 div.sk-dashed-wrapped {border: 1px dashed gray;margin: 0 0.4em 0.5em 0.4em;box-sizing: border-box;padding-bottom: 0.4em;background-color: white;}#sk-container-id-3 div.sk-label label {font-family: monospace;font-weight: bold;display: inline-block;line-height: 1.2em;}#sk-container-id-3 div.sk-label-container {text-align: center;}#sk-container-id-3 div.sk-container {/* jupyter's `normalize.less` sets `[hidden] { display: none; }` but bootstrap.min.css set `[hidden] { display: none !important; }` so we also need the `!important` here to be able to override the default hidden behavior on the sphinx rendered scikit-learn.org. See: https://github.com/scikit-learn/scikit-learn/issues/21755 */display: inline-block !important;position: relative;}#sk-container-id-3 div.sk-text-repr-fallback {display: none;}</style><div id=\"sk-container-id-3\" class=\"sk-top-container\"><div class=\"sk-text-repr-fallback\"><pre>RandomForestRegressor(n_estimators=28,\n",
              "                      random_state=RandomState(MT19937) at 0x7F2F28253840)</pre><b>In a Jupyter environment, please rerun this cell to show the HTML representation or trust the notebook. <br />On GitHub, the HTML representation is unable to render, please try loading this page with nbviewer.org.</b></div><div class=\"sk-container\" hidden><div class=\"sk-item\"><div class=\"sk-estimator sk-toggleable\"><input class=\"sk-toggleable__control sk-hidden--visually\" id=\"sk-estimator-id-3\" type=\"checkbox\" checked><label for=\"sk-estimator-id-3\" class=\"sk-toggleable__label sk-toggleable__label-arrow\">RandomForestRegressor</label><div class=\"sk-toggleable__content\"><pre>RandomForestRegressor(n_estimators=28,\n",
              "                      random_state=RandomState(MT19937) at 0x7F2F28253840)</pre></div></div></div></div></div>"
            ]
          },
          "metadata": {},
          "execution_count": 53
        }
      ]
    },
    {
      "cell_type": "code",
      "source": [
        "y_test_prediction = rfr.predict(X_test_scaled)\n",
        "y_train_prediction = rfr.predict(X_train_scaled)"
      ],
      "metadata": {
        "id": "9VHh1TOXi-99"
      },
      "execution_count": 54,
      "outputs": []
    },
    {
      "cell_type": "code",
      "source": [
        "from sklearn.metrics import mean_squared_error, mean_absolute_error, r2_score\n",
        "from scipy.stats import pearsonr\n",
        "\n",
        "# calcula as métricas de treino e teste\n",
        "metrics = [('R2', r2_score),\n",
        "           ('MSE', mean_squared_error),\n",
        "           ('MAE', mean_absolute_error), \n",
        "           ('rho', pearsonr)]\n",
        "\n",
        "results = {}\n",
        "\n",
        "for name, metric in metrics:\n",
        "    results[name + '_test'] = metric(y_test, y_test_prediction)\n",
        "    results[name + '_train'] = metric(y_train, y_train_prediction)\n",
        "\n",
        "# imprime os resultados\n",
        "print(\"RANDOM FOREST REGRESSOR\")\n",
        "print()\n",
        "print(\"TESTE\")\n",
        "print('\\n'.join([f\"{name}: {value}\" for name, value in results.items() if 'test' in name]))\n",
        "print()\n",
        "print(\"TREINO\")\n",
        "print('\\n'.join([f\"{name}: {value}\" for name, value in results.items() if 'train' in name]))"
      ],
      "metadata": {
        "colab": {
          "base_uri": "https://localhost:8080/"
        },
        "id": "YF9Q54NPGFpn",
        "outputId": "ff28b49d-507f-4a06-a2dd-72f427775c2c"
      },
      "execution_count": 55,
      "outputs": [
        {
          "output_type": "stream",
          "name": "stdout",
          "text": [
            "RANDOM FOREST REGRESSOR\n",
            "\n",
            "TESTE\n",
            "R2_test: 0.9229861016956605\n",
            "MSE_test: 21.297521415012415\n",
            "MAE_test: 3.615707261851288\n",
            "rho_test: PearsonRResult(statistic=0.9607744150446696, pvalue=0.0)\n",
            "\n",
            "TREINO\n",
            "R2_train: 0.924905475586866\n",
            "MSE_train: 20.120112851963054\n",
            "MAE_train: 3.5199269763680743\n",
            "rho_train: PearsonRResult(statistic=0.9617202227613459, pvalue=0.0)\n"
          ]
        }
      ]
    },
    {
      "cell_type": "markdown",
      "source": [
        "**EXPLICAÇÃO:** Olhando para a métrica R2, percebemos que o modelo tem uma boa precisão. A distância de performance entre o teste e treino são mínimos, indicando grande chance de ausência de overfitting."
      ],
      "metadata": {
        "id": "bvegPbSoxSdf"
      }
    },
    {
      "cell_type": "markdown",
      "source": [
        "#### b) Relação de ping e death"
      ],
      "metadata": {
        "id": "uGOqXf0_wf3V"
      }
    },
    {
      "cell_type": "markdown",
      "metadata": {
        "id": "pcMPtk0TPhLy"
      },
      "source": [
        "**COMANDO:** Diversos jogadores de CS dizem que morrem no jogo **apenas** por causa do **ping** (atraso devido a problemas de rede).\n",
        "\n",
        "Usando um modelo de Aprendizado de Máquina, diga se isso é verdade ou não."
      ]
    },
    {
      "cell_type": "code",
      "execution_count": 56,
      "metadata": {
        "colab": {
          "base_uri": "https://localhost:8080/"
        },
        "id": "0sDuSxYwPhLy",
        "outputId": "b54b6d3c-7e64-4240-e020-7744c332b617"
      },
      "outputs": [
        {
          "output_type": "stream",
          "name": "stdout",
          "text": [
            "Coeficiente de correlação: 0.08848574384520892\n"
          ]
        }
      ],
      "source": [
        "# calculando o coeficiente de correlação de Pearson\n",
        "correlation = df2['Deaths'].corr(df2['Ping'])\n",
        "print('Coeficiente de correlação:', correlation) # quanto mais próximo de 1, mais correlação vai ter"
      ]
    },
    {
      "cell_type": "markdown",
      "source": [
        "**EXPLICAÇÃO:** A partir da correlação acima e de anteriores, nota-se que a relação é mínima, cerca de 8%.\n",
        "\n",
        "Agrupamos os jogadores através da classe de ping deles, conforme a função abaixo."
      ],
      "metadata": {
        "id": "ZpTxu6Llx5kS"
      }
    },
    {
      "cell_type": "code",
      "execution_count": 57,
      "metadata": {
        "id": "aVuSfnQCPhLz"
      },
      "outputs": [],
      "source": [
        "def mapear_ping(x):\n",
        "    if x in range(0,30): return('otimo')\n",
        "    elif x in range(30,200): return('aceitavel')\n",
        "    else: return('ruim')"
      ]
    },
    {
      "cell_type": "code",
      "execution_count": 58,
      "metadata": {
        "id": "MIVO7v0oPhLz"
      },
      "outputs": [],
      "source": [
        "df3 = df2.copy()\n",
        "df3['ping_class'] = df2['Ping'].apply(mapear_ping)"
      ]
    },
    {
      "cell_type": "code",
      "execution_count": 59,
      "metadata": {
        "colab": {
          "base_uri": "https://localhost:8080/",
          "height": 230
        },
        "id": "h8KqnzdvPhLz",
        "outputId": "fe95b60f-bdc0-47c8-94de-211b7f170fd9"
      },
      "outputs": [
        {
          "output_type": "stream",
          "name": "stderr",
          "text": [
            "<ipython-input-59-b7a833987819>:1: FutureWarning: The default value of numeric_only in DataFrameGroupBy.mean is deprecated. In a future version, numeric_only will default to False. Either specify numeric_only or select only columns which should be valid for the function.\n",
            "  df3.groupby('ping_class').mean()\n"
          ]
        },
        {
          "output_type": "execute_result",
          "data": {
            "text/plain": [
              "                  Ping      Kills   Assists     Deaths       MVP        HSP  \\\n",
              "ping_class                                                                    \n",
              "aceitavel    59.657847  18.171349  3.789416  18.294563  2.360196  33.762836   \n",
              "otimo        14.654658  16.743265  3.594774  17.298442  2.231581  34.356865   \n",
              "ruim        317.699387  15.294479  3.441718  19.294479  1.889571  36.269939   \n",
              "\n",
              "                Score  \n",
              "ping_class             \n",
              "aceitavel   45.507871  \n",
              "otimo       41.969653  \n",
              "ruim        39.521472  "
            ],
            "text/html": [
              "\n",
              "  <div id=\"df-aea8b639-9f93-4820-8c98-a1dad38fc04a\">\n",
              "    <div class=\"colab-df-container\">\n",
              "      <div>\n",
              "<style scoped>\n",
              "    .dataframe tbody tr th:only-of-type {\n",
              "        vertical-align: middle;\n",
              "    }\n",
              "\n",
              "    .dataframe tbody tr th {\n",
              "        vertical-align: top;\n",
              "    }\n",
              "\n",
              "    .dataframe thead th {\n",
              "        text-align: right;\n",
              "    }\n",
              "</style>\n",
              "<table border=\"1\" class=\"dataframe\">\n",
              "  <thead>\n",
              "    <tr style=\"text-align: right;\">\n",
              "      <th></th>\n",
              "      <th>Ping</th>\n",
              "      <th>Kills</th>\n",
              "      <th>Assists</th>\n",
              "      <th>Deaths</th>\n",
              "      <th>MVP</th>\n",
              "      <th>HSP</th>\n",
              "      <th>Score</th>\n",
              "    </tr>\n",
              "    <tr>\n",
              "      <th>ping_class</th>\n",
              "      <th></th>\n",
              "      <th></th>\n",
              "      <th></th>\n",
              "      <th></th>\n",
              "      <th></th>\n",
              "      <th></th>\n",
              "      <th></th>\n",
              "    </tr>\n",
              "  </thead>\n",
              "  <tbody>\n",
              "    <tr>\n",
              "      <th>aceitavel</th>\n",
              "      <td>59.657847</td>\n",
              "      <td>18.171349</td>\n",
              "      <td>3.789416</td>\n",
              "      <td>18.294563</td>\n",
              "      <td>2.360196</td>\n",
              "      <td>33.762836</td>\n",
              "      <td>45.507871</td>\n",
              "    </tr>\n",
              "    <tr>\n",
              "      <th>otimo</th>\n",
              "      <td>14.654658</td>\n",
              "      <td>16.743265</td>\n",
              "      <td>3.594774</td>\n",
              "      <td>17.298442</td>\n",
              "      <td>2.231581</td>\n",
              "      <td>34.356865</td>\n",
              "      <td>41.969653</td>\n",
              "    </tr>\n",
              "    <tr>\n",
              "      <th>ruim</th>\n",
              "      <td>317.699387</td>\n",
              "      <td>15.294479</td>\n",
              "      <td>3.441718</td>\n",
              "      <td>19.294479</td>\n",
              "      <td>1.889571</td>\n",
              "      <td>36.269939</td>\n",
              "      <td>39.521472</td>\n",
              "    </tr>\n",
              "  </tbody>\n",
              "</table>\n",
              "</div>\n",
              "      <button class=\"colab-df-convert\" onclick=\"convertToInteractive('df-aea8b639-9f93-4820-8c98-a1dad38fc04a')\"\n",
              "              title=\"Convert this dataframe to an interactive table.\"\n",
              "              style=\"display:none;\">\n",
              "        \n",
              "  <svg xmlns=\"http://www.w3.org/2000/svg\" height=\"24px\"viewBox=\"0 0 24 24\"\n",
              "       width=\"24px\">\n",
              "    <path d=\"M0 0h24v24H0V0z\" fill=\"none\"/>\n",
              "    <path d=\"M18.56 5.44l.94 2.06.94-2.06 2.06-.94-2.06-.94-.94-2.06-.94 2.06-2.06.94zm-11 1L8.5 8.5l.94-2.06 2.06-.94-2.06-.94L8.5 2.5l-.94 2.06-2.06.94zm10 10l.94 2.06.94-2.06 2.06-.94-2.06-.94-.94-2.06-.94 2.06-2.06.94z\"/><path d=\"M17.41 7.96l-1.37-1.37c-.4-.4-.92-.59-1.43-.59-.52 0-1.04.2-1.43.59L10.3 9.45l-7.72 7.72c-.78.78-.78 2.05 0 2.83L4 21.41c.39.39.9.59 1.41.59.51 0 1.02-.2 1.41-.59l7.78-7.78 2.81-2.81c.8-.78.8-2.07 0-2.86zM5.41 20L4 18.59l7.72-7.72 1.47 1.35L5.41 20z\"/>\n",
              "  </svg>\n",
              "      </button>\n",
              "      \n",
              "  <style>\n",
              "    .colab-df-container {\n",
              "      display:flex;\n",
              "      flex-wrap:wrap;\n",
              "      gap: 12px;\n",
              "    }\n",
              "\n",
              "    .colab-df-convert {\n",
              "      background-color: #E8F0FE;\n",
              "      border: none;\n",
              "      border-radius: 50%;\n",
              "      cursor: pointer;\n",
              "      display: none;\n",
              "      fill: #1967D2;\n",
              "      height: 32px;\n",
              "      padding: 0 0 0 0;\n",
              "      width: 32px;\n",
              "    }\n",
              "\n",
              "    .colab-df-convert:hover {\n",
              "      background-color: #E2EBFA;\n",
              "      box-shadow: 0px 1px 2px rgba(60, 64, 67, 0.3), 0px 1px 3px 1px rgba(60, 64, 67, 0.15);\n",
              "      fill: #174EA6;\n",
              "    }\n",
              "\n",
              "    [theme=dark] .colab-df-convert {\n",
              "      background-color: #3B4455;\n",
              "      fill: #D2E3FC;\n",
              "    }\n",
              "\n",
              "    [theme=dark] .colab-df-convert:hover {\n",
              "      background-color: #434B5C;\n",
              "      box-shadow: 0px 1px 3px 1px rgba(0, 0, 0, 0.15);\n",
              "      filter: drop-shadow(0px 1px 2px rgba(0, 0, 0, 0.3));\n",
              "      fill: #FFFFFF;\n",
              "    }\n",
              "  </style>\n",
              "\n",
              "      <script>\n",
              "        const buttonEl =\n",
              "          document.querySelector('#df-aea8b639-9f93-4820-8c98-a1dad38fc04a button.colab-df-convert');\n",
              "        buttonEl.style.display =\n",
              "          google.colab.kernel.accessAllowed ? 'block' : 'none';\n",
              "\n",
              "        async function convertToInteractive(key) {\n",
              "          const element = document.querySelector('#df-aea8b639-9f93-4820-8c98-a1dad38fc04a');\n",
              "          const dataTable =\n",
              "            await google.colab.kernel.invokeFunction('convertToInteractive',\n",
              "                                                     [key], {});\n",
              "          if (!dataTable) return;\n",
              "\n",
              "          const docLinkHtml = 'Like what you see? Visit the ' +\n",
              "            '<a target=\"_blank\" href=https://colab.research.google.com/notebooks/data_table.ipynb>data table notebook</a>'\n",
              "            + ' to learn more about interactive tables.';\n",
              "          element.innerHTML = '';\n",
              "          dataTable['output_type'] = 'display_data';\n",
              "          await google.colab.output.renderOutput(dataTable, element);\n",
              "          const docLink = document.createElement('div');\n",
              "          docLink.innerHTML = docLinkHtml;\n",
              "          element.appendChild(docLink);\n",
              "        }\n",
              "      </script>\n",
              "    </div>\n",
              "  </div>\n",
              "  "
            ]
          },
          "metadata": {},
          "execution_count": 59
        }
      ],
      "source": [
        "df3.groupby('ping_class').mean()"
      ]
    },
    {
      "cell_type": "markdown",
      "metadata": {
        "id": "iPMncGHjPhLz"
      },
      "source": [
        "**COMANDO:** Baseado nesse agrupamento, crie um Modelo de Aprendizado de Máquina para predizer o grupo de ping do jogador usando seus atributos descritivos. Lembre-se de não usar o coluna de Ping para isso.\n",
        "\n",
        "Os modelos se corroboram? O que você conclui da hipótese de que o ping ruim causa mais mortes no jogo? E sobre a influência do ping no jogo como um todo, o que você pode concluir?"
      ]
    },
    {
      "cell_type": "code",
      "source": [
        "df3"
      ],
      "metadata": {
        "colab": {
          "base_uri": "https://localhost:8080/",
          "height": 424
        },
        "id": "uhcyT9zPliZK",
        "outputId": "fbeb34aa-0bb4-4ef7-f31a-4710a14d5e8c"
      },
      "execution_count": 60,
      "outputs": [
        {
          "output_type": "execute_result",
          "data": {
            "text/plain": [
              "              Player Name  Ping  Kills  Assists  Deaths  MVP  HSP  Score  \\\n",
              "0                     DNB    45     38        4      20    8   42     90   \n",
              "1                  link1n    31     22        3      17    5   54     51   \n",
              "2                    sn0w    42     14        4      20    0   40     42   \n",
              "3             reedkihaddi    90     13        3      23    0   28     33   \n",
              "4                  pEhnol    33     11        4      27    0   54     26   \n",
              "...                   ...   ...    ...      ...     ...  ...  ...    ...   \n",
              "22919           Ned Stark    23     18        3      12    5   33     47   \n",
              "22920              abhi17    32     20        1       9    3   45     43   \n",
              "22921     //MORTAL-SOUL->    10     16        1       9    3   25     41   \n",
              "22922  Vac_Banned_Badluck     8     17        2      13    4   17     39   \n",
              "22923            DaNooBro    31     15        4      10    0    6     38   \n",
              "\n",
              "      ping_class  \n",
              "0      aceitavel  \n",
              "1      aceitavel  \n",
              "2      aceitavel  \n",
              "3      aceitavel  \n",
              "4      aceitavel  \n",
              "...          ...  \n",
              "22919      otimo  \n",
              "22920  aceitavel  \n",
              "22921      otimo  \n",
              "22922      otimo  \n",
              "22923  aceitavel  \n",
              "\n",
              "[22841 rows x 9 columns]"
            ],
            "text/html": [
              "\n",
              "  <div id=\"df-adf362c0-6357-4503-a529-12790e69f56f\">\n",
              "    <div class=\"colab-df-container\">\n",
              "      <div>\n",
              "<style scoped>\n",
              "    .dataframe tbody tr th:only-of-type {\n",
              "        vertical-align: middle;\n",
              "    }\n",
              "\n",
              "    .dataframe tbody tr th {\n",
              "        vertical-align: top;\n",
              "    }\n",
              "\n",
              "    .dataframe thead th {\n",
              "        text-align: right;\n",
              "    }\n",
              "</style>\n",
              "<table border=\"1\" class=\"dataframe\">\n",
              "  <thead>\n",
              "    <tr style=\"text-align: right;\">\n",
              "      <th></th>\n",
              "      <th>Player Name</th>\n",
              "      <th>Ping</th>\n",
              "      <th>Kills</th>\n",
              "      <th>Assists</th>\n",
              "      <th>Deaths</th>\n",
              "      <th>MVP</th>\n",
              "      <th>HSP</th>\n",
              "      <th>Score</th>\n",
              "      <th>ping_class</th>\n",
              "    </tr>\n",
              "  </thead>\n",
              "  <tbody>\n",
              "    <tr>\n",
              "      <th>0</th>\n",
              "      <td>DNB</td>\n",
              "      <td>45</td>\n",
              "      <td>38</td>\n",
              "      <td>4</td>\n",
              "      <td>20</td>\n",
              "      <td>8</td>\n",
              "      <td>42</td>\n",
              "      <td>90</td>\n",
              "      <td>aceitavel</td>\n",
              "    </tr>\n",
              "    <tr>\n",
              "      <th>1</th>\n",
              "      <td>link1n</td>\n",
              "      <td>31</td>\n",
              "      <td>22</td>\n",
              "      <td>3</td>\n",
              "      <td>17</td>\n",
              "      <td>5</td>\n",
              "      <td>54</td>\n",
              "      <td>51</td>\n",
              "      <td>aceitavel</td>\n",
              "    </tr>\n",
              "    <tr>\n",
              "      <th>2</th>\n",
              "      <td>sn0w</td>\n",
              "      <td>42</td>\n",
              "      <td>14</td>\n",
              "      <td>4</td>\n",
              "      <td>20</td>\n",
              "      <td>0</td>\n",
              "      <td>40</td>\n",
              "      <td>42</td>\n",
              "      <td>aceitavel</td>\n",
              "    </tr>\n",
              "    <tr>\n",
              "      <th>3</th>\n",
              "      <td>reedkihaddi</td>\n",
              "      <td>90</td>\n",
              "      <td>13</td>\n",
              "      <td>3</td>\n",
              "      <td>23</td>\n",
              "      <td>0</td>\n",
              "      <td>28</td>\n",
              "      <td>33</td>\n",
              "      <td>aceitavel</td>\n",
              "    </tr>\n",
              "    <tr>\n",
              "      <th>4</th>\n",
              "      <td>pEhnol</td>\n",
              "      <td>33</td>\n",
              "      <td>11</td>\n",
              "      <td>4</td>\n",
              "      <td>27</td>\n",
              "      <td>0</td>\n",
              "      <td>54</td>\n",
              "      <td>26</td>\n",
              "      <td>aceitavel</td>\n",
              "    </tr>\n",
              "    <tr>\n",
              "      <th>...</th>\n",
              "      <td>...</td>\n",
              "      <td>...</td>\n",
              "      <td>...</td>\n",
              "      <td>...</td>\n",
              "      <td>...</td>\n",
              "      <td>...</td>\n",
              "      <td>...</td>\n",
              "      <td>...</td>\n",
              "      <td>...</td>\n",
              "    </tr>\n",
              "    <tr>\n",
              "      <th>22919</th>\n",
              "      <td>Ned Stark</td>\n",
              "      <td>23</td>\n",
              "      <td>18</td>\n",
              "      <td>3</td>\n",
              "      <td>12</td>\n",
              "      <td>5</td>\n",
              "      <td>33</td>\n",
              "      <td>47</td>\n",
              "      <td>otimo</td>\n",
              "    </tr>\n",
              "    <tr>\n",
              "      <th>22920</th>\n",
              "      <td>abhi17</td>\n",
              "      <td>32</td>\n",
              "      <td>20</td>\n",
              "      <td>1</td>\n",
              "      <td>9</td>\n",
              "      <td>3</td>\n",
              "      <td>45</td>\n",
              "      <td>43</td>\n",
              "      <td>aceitavel</td>\n",
              "    </tr>\n",
              "    <tr>\n",
              "      <th>22921</th>\n",
              "      <td>//MORTAL-SOUL-&gt;</td>\n",
              "      <td>10</td>\n",
              "      <td>16</td>\n",
              "      <td>1</td>\n",
              "      <td>9</td>\n",
              "      <td>3</td>\n",
              "      <td>25</td>\n",
              "      <td>41</td>\n",
              "      <td>otimo</td>\n",
              "    </tr>\n",
              "    <tr>\n",
              "      <th>22922</th>\n",
              "      <td>Vac_Banned_Badluck</td>\n",
              "      <td>8</td>\n",
              "      <td>17</td>\n",
              "      <td>2</td>\n",
              "      <td>13</td>\n",
              "      <td>4</td>\n",
              "      <td>17</td>\n",
              "      <td>39</td>\n",
              "      <td>otimo</td>\n",
              "    </tr>\n",
              "    <tr>\n",
              "      <th>22923</th>\n",
              "      <td>DaNooBro</td>\n",
              "      <td>31</td>\n",
              "      <td>15</td>\n",
              "      <td>4</td>\n",
              "      <td>10</td>\n",
              "      <td>0</td>\n",
              "      <td>6</td>\n",
              "      <td>38</td>\n",
              "      <td>aceitavel</td>\n",
              "    </tr>\n",
              "  </tbody>\n",
              "</table>\n",
              "<p>22841 rows × 9 columns</p>\n",
              "</div>\n",
              "      <button class=\"colab-df-convert\" onclick=\"convertToInteractive('df-adf362c0-6357-4503-a529-12790e69f56f')\"\n",
              "              title=\"Convert this dataframe to an interactive table.\"\n",
              "              style=\"display:none;\">\n",
              "        \n",
              "  <svg xmlns=\"http://www.w3.org/2000/svg\" height=\"24px\"viewBox=\"0 0 24 24\"\n",
              "       width=\"24px\">\n",
              "    <path d=\"M0 0h24v24H0V0z\" fill=\"none\"/>\n",
              "    <path d=\"M18.56 5.44l.94 2.06.94-2.06 2.06-.94-2.06-.94-.94-2.06-.94 2.06-2.06.94zm-11 1L8.5 8.5l.94-2.06 2.06-.94-2.06-.94L8.5 2.5l-.94 2.06-2.06.94zm10 10l.94 2.06.94-2.06 2.06-.94-2.06-.94-.94-2.06-.94 2.06-2.06.94z\"/><path d=\"M17.41 7.96l-1.37-1.37c-.4-.4-.92-.59-1.43-.59-.52 0-1.04.2-1.43.59L10.3 9.45l-7.72 7.72c-.78.78-.78 2.05 0 2.83L4 21.41c.39.39.9.59 1.41.59.51 0 1.02-.2 1.41-.59l7.78-7.78 2.81-2.81c.8-.78.8-2.07 0-2.86zM5.41 20L4 18.59l7.72-7.72 1.47 1.35L5.41 20z\"/>\n",
              "  </svg>\n",
              "      </button>\n",
              "      \n",
              "  <style>\n",
              "    .colab-df-container {\n",
              "      display:flex;\n",
              "      flex-wrap:wrap;\n",
              "      gap: 12px;\n",
              "    }\n",
              "\n",
              "    .colab-df-convert {\n",
              "      background-color: #E8F0FE;\n",
              "      border: none;\n",
              "      border-radius: 50%;\n",
              "      cursor: pointer;\n",
              "      display: none;\n",
              "      fill: #1967D2;\n",
              "      height: 32px;\n",
              "      padding: 0 0 0 0;\n",
              "      width: 32px;\n",
              "    }\n",
              "\n",
              "    .colab-df-convert:hover {\n",
              "      background-color: #E2EBFA;\n",
              "      box-shadow: 0px 1px 2px rgba(60, 64, 67, 0.3), 0px 1px 3px 1px rgba(60, 64, 67, 0.15);\n",
              "      fill: #174EA6;\n",
              "    }\n",
              "\n",
              "    [theme=dark] .colab-df-convert {\n",
              "      background-color: #3B4455;\n",
              "      fill: #D2E3FC;\n",
              "    }\n",
              "\n",
              "    [theme=dark] .colab-df-convert:hover {\n",
              "      background-color: #434B5C;\n",
              "      box-shadow: 0px 1px 3px 1px rgba(0, 0, 0, 0.15);\n",
              "      filter: drop-shadow(0px 1px 2px rgba(0, 0, 0, 0.3));\n",
              "      fill: #FFFFFF;\n",
              "    }\n",
              "  </style>\n",
              "\n",
              "      <script>\n",
              "        const buttonEl =\n",
              "          document.querySelector('#df-adf362c0-6357-4503-a529-12790e69f56f button.colab-df-convert');\n",
              "        buttonEl.style.display =\n",
              "          google.colab.kernel.accessAllowed ? 'block' : 'none';\n",
              "\n",
              "        async function convertToInteractive(key) {\n",
              "          const element = document.querySelector('#df-adf362c0-6357-4503-a529-12790e69f56f');\n",
              "          const dataTable =\n",
              "            await google.colab.kernel.invokeFunction('convertToInteractive',\n",
              "                                                     [key], {});\n",
              "          if (!dataTable) return;\n",
              "\n",
              "          const docLinkHtml = 'Like what you see? Visit the ' +\n",
              "            '<a target=\"_blank\" href=https://colab.research.google.com/notebooks/data_table.ipynb>data table notebook</a>'\n",
              "            + ' to learn more about interactive tables.';\n",
              "          element.innerHTML = '';\n",
              "          dataTable['output_type'] = 'display_data';\n",
              "          await google.colab.output.renderOutput(dataTable, element);\n",
              "          const docLink = document.createElement('div');\n",
              "          docLink.innerHTML = docLinkHtml;\n",
              "          element.appendChild(docLink);\n",
              "        }\n",
              "      </script>\n",
              "    </div>\n",
              "  </div>\n",
              "  "
            ]
          },
          "metadata": {},
          "execution_count": 60
        }
      ]
    },
    {
      "cell_type": "code",
      "source": [
        "df3[['ping_class']].groupby('ping_class').value_counts()"
      ],
      "metadata": {
        "colab": {
          "base_uri": "https://localhost:8080/"
        },
        "id": "akXOINaM6bMu",
        "outputId": "200e08ec-841d-4b71-b8df-3fcda903fa86"
      },
      "execution_count": 61,
      "outputs": [
        {
          "output_type": "execute_result",
          "data": {
            "text/plain": [
              "ping_class\n",
              "aceitavel    16516\n",
              "otimo         6162\n",
              "ruim           163\n",
              "dtype: int64"
            ]
          },
          "metadata": {},
          "execution_count": 61
        }
      ]
    },
    {
      "cell_type": "markdown",
      "source": [
        "**EXPLICAÇÃO:** Percebe-se que temos grande discrepância na quantidade de dados em relação a cada tipo de classe na coluna ping_class. Devido a isso, tentaremos equilibrar essa quantidade nos próximos códigos com o oversampling."
      ],
      "metadata": {
        "id": "rLuwbthjYoqH"
      }
    },
    {
      "cell_type": "code",
      "source": [
        "df3"
      ],
      "metadata": {
        "colab": {
          "base_uri": "https://localhost:8080/",
          "height": 424
        },
        "id": "PdZbB19eNPAg",
        "outputId": "140e0abd-1fc8-4232-eeb5-56087635afb5"
      },
      "execution_count": 65,
      "outputs": [
        {
          "output_type": "execute_result",
          "data": {
            "text/plain": [
              "              Player Name  Ping  Kills  Assists  Deaths  MVP  HSP  Score  \\\n",
              "0                     DNB    45     38        4      20    8   42     90   \n",
              "1                  link1n    31     22        3      17    5   54     51   \n",
              "2                    sn0w    42     14        4      20    0   40     42   \n",
              "3             reedkihaddi    90     13        3      23    0   28     33   \n",
              "4                  pEhnol    33     11        4      27    0   54     26   \n",
              "...                   ...   ...    ...      ...     ...  ...  ...    ...   \n",
              "22919           Ned Stark    23     18        3      12    5   33     47   \n",
              "22920              abhi17    32     20        1       9    3   45     43   \n",
              "22921     //MORTAL-SOUL->    10     16        1       9    3   25     41   \n",
              "22922  Vac_Banned_Badluck     8     17        2      13    4   17     39   \n",
              "22923            DaNooBro    31     15        4      10    0    6     38   \n",
              "\n",
              "      ping_class  \n",
              "0      aceitavel  \n",
              "1      aceitavel  \n",
              "2      aceitavel  \n",
              "3      aceitavel  \n",
              "4      aceitavel  \n",
              "...          ...  \n",
              "22919      otimo  \n",
              "22920  aceitavel  \n",
              "22921      otimo  \n",
              "22922      otimo  \n",
              "22923  aceitavel  \n",
              "\n",
              "[22841 rows x 9 columns]"
            ],
            "text/html": [
              "\n",
              "  <div id=\"df-96b46060-bdf7-49c3-8140-21863f265242\">\n",
              "    <div class=\"colab-df-container\">\n",
              "      <div>\n",
              "<style scoped>\n",
              "    .dataframe tbody tr th:only-of-type {\n",
              "        vertical-align: middle;\n",
              "    }\n",
              "\n",
              "    .dataframe tbody tr th {\n",
              "        vertical-align: top;\n",
              "    }\n",
              "\n",
              "    .dataframe thead th {\n",
              "        text-align: right;\n",
              "    }\n",
              "</style>\n",
              "<table border=\"1\" class=\"dataframe\">\n",
              "  <thead>\n",
              "    <tr style=\"text-align: right;\">\n",
              "      <th></th>\n",
              "      <th>Player Name</th>\n",
              "      <th>Ping</th>\n",
              "      <th>Kills</th>\n",
              "      <th>Assists</th>\n",
              "      <th>Deaths</th>\n",
              "      <th>MVP</th>\n",
              "      <th>HSP</th>\n",
              "      <th>Score</th>\n",
              "      <th>ping_class</th>\n",
              "    </tr>\n",
              "  </thead>\n",
              "  <tbody>\n",
              "    <tr>\n",
              "      <th>0</th>\n",
              "      <td>DNB</td>\n",
              "      <td>45</td>\n",
              "      <td>38</td>\n",
              "      <td>4</td>\n",
              "      <td>20</td>\n",
              "      <td>8</td>\n",
              "      <td>42</td>\n",
              "      <td>90</td>\n",
              "      <td>aceitavel</td>\n",
              "    </tr>\n",
              "    <tr>\n",
              "      <th>1</th>\n",
              "      <td>link1n</td>\n",
              "      <td>31</td>\n",
              "      <td>22</td>\n",
              "      <td>3</td>\n",
              "      <td>17</td>\n",
              "      <td>5</td>\n",
              "      <td>54</td>\n",
              "      <td>51</td>\n",
              "      <td>aceitavel</td>\n",
              "    </tr>\n",
              "    <tr>\n",
              "      <th>2</th>\n",
              "      <td>sn0w</td>\n",
              "      <td>42</td>\n",
              "      <td>14</td>\n",
              "      <td>4</td>\n",
              "      <td>20</td>\n",
              "      <td>0</td>\n",
              "      <td>40</td>\n",
              "      <td>42</td>\n",
              "      <td>aceitavel</td>\n",
              "    </tr>\n",
              "    <tr>\n",
              "      <th>3</th>\n",
              "      <td>reedkihaddi</td>\n",
              "      <td>90</td>\n",
              "      <td>13</td>\n",
              "      <td>3</td>\n",
              "      <td>23</td>\n",
              "      <td>0</td>\n",
              "      <td>28</td>\n",
              "      <td>33</td>\n",
              "      <td>aceitavel</td>\n",
              "    </tr>\n",
              "    <tr>\n",
              "      <th>4</th>\n",
              "      <td>pEhnol</td>\n",
              "      <td>33</td>\n",
              "      <td>11</td>\n",
              "      <td>4</td>\n",
              "      <td>27</td>\n",
              "      <td>0</td>\n",
              "      <td>54</td>\n",
              "      <td>26</td>\n",
              "      <td>aceitavel</td>\n",
              "    </tr>\n",
              "    <tr>\n",
              "      <th>...</th>\n",
              "      <td>...</td>\n",
              "      <td>...</td>\n",
              "      <td>...</td>\n",
              "      <td>...</td>\n",
              "      <td>...</td>\n",
              "      <td>...</td>\n",
              "      <td>...</td>\n",
              "      <td>...</td>\n",
              "      <td>...</td>\n",
              "    </tr>\n",
              "    <tr>\n",
              "      <th>22919</th>\n",
              "      <td>Ned Stark</td>\n",
              "      <td>23</td>\n",
              "      <td>18</td>\n",
              "      <td>3</td>\n",
              "      <td>12</td>\n",
              "      <td>5</td>\n",
              "      <td>33</td>\n",
              "      <td>47</td>\n",
              "      <td>otimo</td>\n",
              "    </tr>\n",
              "    <tr>\n",
              "      <th>22920</th>\n",
              "      <td>abhi17</td>\n",
              "      <td>32</td>\n",
              "      <td>20</td>\n",
              "      <td>1</td>\n",
              "      <td>9</td>\n",
              "      <td>3</td>\n",
              "      <td>45</td>\n",
              "      <td>43</td>\n",
              "      <td>aceitavel</td>\n",
              "    </tr>\n",
              "    <tr>\n",
              "      <th>22921</th>\n",
              "      <td>//MORTAL-SOUL-&gt;</td>\n",
              "      <td>10</td>\n",
              "      <td>16</td>\n",
              "      <td>1</td>\n",
              "      <td>9</td>\n",
              "      <td>3</td>\n",
              "      <td>25</td>\n",
              "      <td>41</td>\n",
              "      <td>otimo</td>\n",
              "    </tr>\n",
              "    <tr>\n",
              "      <th>22922</th>\n",
              "      <td>Vac_Banned_Badluck</td>\n",
              "      <td>8</td>\n",
              "      <td>17</td>\n",
              "      <td>2</td>\n",
              "      <td>13</td>\n",
              "      <td>4</td>\n",
              "      <td>17</td>\n",
              "      <td>39</td>\n",
              "      <td>otimo</td>\n",
              "    </tr>\n",
              "    <tr>\n",
              "      <th>22923</th>\n",
              "      <td>DaNooBro</td>\n",
              "      <td>31</td>\n",
              "      <td>15</td>\n",
              "      <td>4</td>\n",
              "      <td>10</td>\n",
              "      <td>0</td>\n",
              "      <td>6</td>\n",
              "      <td>38</td>\n",
              "      <td>aceitavel</td>\n",
              "    </tr>\n",
              "  </tbody>\n",
              "</table>\n",
              "<p>22841 rows × 9 columns</p>\n",
              "</div>\n",
              "      <button class=\"colab-df-convert\" onclick=\"convertToInteractive('df-96b46060-bdf7-49c3-8140-21863f265242')\"\n",
              "              title=\"Convert this dataframe to an interactive table.\"\n",
              "              style=\"display:none;\">\n",
              "        \n",
              "  <svg xmlns=\"http://www.w3.org/2000/svg\" height=\"24px\"viewBox=\"0 0 24 24\"\n",
              "       width=\"24px\">\n",
              "    <path d=\"M0 0h24v24H0V0z\" fill=\"none\"/>\n",
              "    <path d=\"M18.56 5.44l.94 2.06.94-2.06 2.06-.94-2.06-.94-.94-2.06-.94 2.06-2.06.94zm-11 1L8.5 8.5l.94-2.06 2.06-.94-2.06-.94L8.5 2.5l-.94 2.06-2.06.94zm10 10l.94 2.06.94-2.06 2.06-.94-2.06-.94-.94-2.06-.94 2.06-2.06.94z\"/><path d=\"M17.41 7.96l-1.37-1.37c-.4-.4-.92-.59-1.43-.59-.52 0-1.04.2-1.43.59L10.3 9.45l-7.72 7.72c-.78.78-.78 2.05 0 2.83L4 21.41c.39.39.9.59 1.41.59.51 0 1.02-.2 1.41-.59l7.78-7.78 2.81-2.81c.8-.78.8-2.07 0-2.86zM5.41 20L4 18.59l7.72-7.72 1.47 1.35L5.41 20z\"/>\n",
              "  </svg>\n",
              "      </button>\n",
              "      \n",
              "  <style>\n",
              "    .colab-df-container {\n",
              "      display:flex;\n",
              "      flex-wrap:wrap;\n",
              "      gap: 12px;\n",
              "    }\n",
              "\n",
              "    .colab-df-convert {\n",
              "      background-color: #E8F0FE;\n",
              "      border: none;\n",
              "      border-radius: 50%;\n",
              "      cursor: pointer;\n",
              "      display: none;\n",
              "      fill: #1967D2;\n",
              "      height: 32px;\n",
              "      padding: 0 0 0 0;\n",
              "      width: 32px;\n",
              "    }\n",
              "\n",
              "    .colab-df-convert:hover {\n",
              "      background-color: #E2EBFA;\n",
              "      box-shadow: 0px 1px 2px rgba(60, 64, 67, 0.3), 0px 1px 3px 1px rgba(60, 64, 67, 0.15);\n",
              "      fill: #174EA6;\n",
              "    }\n",
              "\n",
              "    [theme=dark] .colab-df-convert {\n",
              "      background-color: #3B4455;\n",
              "      fill: #D2E3FC;\n",
              "    }\n",
              "\n",
              "    [theme=dark] .colab-df-convert:hover {\n",
              "      background-color: #434B5C;\n",
              "      box-shadow: 0px 1px 3px 1px rgba(0, 0, 0, 0.15);\n",
              "      filter: drop-shadow(0px 1px 2px rgba(0, 0, 0, 0.3));\n",
              "      fill: #FFFFFF;\n",
              "    }\n",
              "  </style>\n",
              "\n",
              "      <script>\n",
              "        const buttonEl =\n",
              "          document.querySelector('#df-96b46060-bdf7-49c3-8140-21863f265242 button.colab-df-convert');\n",
              "        buttonEl.style.display =\n",
              "          google.colab.kernel.accessAllowed ? 'block' : 'none';\n",
              "\n",
              "        async function convertToInteractive(key) {\n",
              "          const element = document.querySelector('#df-96b46060-bdf7-49c3-8140-21863f265242');\n",
              "          const dataTable =\n",
              "            await google.colab.kernel.invokeFunction('convertToInteractive',\n",
              "                                                     [key], {});\n",
              "          if (!dataTable) return;\n",
              "\n",
              "          const docLinkHtml = 'Like what you see? Visit the ' +\n",
              "            '<a target=\"_blank\" href=https://colab.research.google.com/notebooks/data_table.ipynb>data table notebook</a>'\n",
              "            + ' to learn more about interactive tables.';\n",
              "          element.innerHTML = '';\n",
              "          dataTable['output_type'] = 'display_data';\n",
              "          await google.colab.output.renderOutput(dataTable, element);\n",
              "          const docLink = document.createElement('div');\n",
              "          docLink.innerHTML = docLinkHtml;\n",
              "          element.appendChild(docLink);\n",
              "        }\n",
              "      </script>\n",
              "    </div>\n",
              "  </div>\n",
              "  "
            ]
          },
          "metadata": {},
          "execution_count": 65
        }
      ]
    },
    {
      "cell_type": "code",
      "source": [
        "#!pip install boruta\n",
        "\n",
        "from boruta import BorutaPy\n",
        "from sklearn.ensemble import RandomForestClassifier\n",
        "\n",
        "X_boruta = df3.drop(columns=['Player Name', 'Ping', 'ping_class'])\n",
        "y_boruta = df3['ping_class']\n",
        "\n",
        "rfc = RandomForestClassifier()\n",
        "boruta = BorutaPy(rfc, n_estimators='auto', verbose=2, max_iter=50)\n",
        "boruta.fit(X_boruta.values, y_boruta.values)\n",
        "\n",
        "cols = [(nome, ranking) for nome, ranking in zip(X_boruta.columns, boruta.ranking_)]\n",
        "cols = sorted(cols, key=lambda x: x[1])\n",
        "\n",
        "# Imprima os nomes das colunas selecionadas e seus respectivos rankings\n",
        "print()\n",
        "print(\"RANKING\")\n",
        "print()\n",
        "for nome, ranking in cols:\n",
        "    print(f\"{nome}: {ranking}\")"
      ],
      "metadata": {
        "colab": {
          "base_uri": "https://localhost:8080/"
        },
        "id": "ydepj5qxNwdx",
        "outputId": "788b2bb8-61ec-42a1-f07b-bf39521678c7"
      },
      "execution_count": 66,
      "outputs": [
        {
          "output_type": "stream",
          "name": "stdout",
          "text": [
            "Iteration: \t1 / 50\n",
            "Confirmed: \t0\n",
            "Tentative: \t6\n",
            "Rejected: \t0\n",
            "Iteration: \t2 / 50\n",
            "Confirmed: \t0\n",
            "Tentative: \t6\n",
            "Rejected: \t0\n",
            "Iteration: \t3 / 50\n",
            "Confirmed: \t0\n",
            "Tentative: \t6\n",
            "Rejected: \t0\n",
            "Iteration: \t4 / 50\n",
            "Confirmed: \t0\n",
            "Tentative: \t6\n",
            "Rejected: \t0\n",
            "Iteration: \t5 / 50\n",
            "Confirmed: \t0\n",
            "Tentative: \t6\n",
            "Rejected: \t0\n",
            "Iteration: \t6 / 50\n",
            "Confirmed: \t0\n",
            "Tentative: \t6\n",
            "Rejected: \t0\n",
            "Iteration: \t7 / 50\n",
            "Confirmed: \t0\n",
            "Tentative: \t6\n",
            "Rejected: \t0\n",
            "Iteration: \t8 / 50\n",
            "Confirmed: \t0\n",
            "Tentative: \t1\n",
            "Rejected: \t5\n",
            "Iteration: \t9 / 50\n",
            "Confirmed: \t0\n",
            "Tentative: \t1\n",
            "Rejected: \t5\n",
            "Iteration: \t10 / 50\n",
            "Confirmed: \t0\n",
            "Tentative: \t1\n",
            "Rejected: \t5\n",
            "Iteration: \t11 / 50\n",
            "Confirmed: \t0\n",
            "Tentative: \t1\n",
            "Rejected: \t5\n",
            "Iteration: \t12 / 50\n",
            "Confirmed: \t0\n",
            "Tentative: \t1\n",
            "Rejected: \t5\n",
            "Iteration: \t13 / 50\n",
            "Confirmed: \t0\n",
            "Tentative: \t1\n",
            "Rejected: \t5\n",
            "Iteration: \t14 / 50\n",
            "Confirmed: \t0\n",
            "Tentative: \t1\n",
            "Rejected: \t5\n",
            "Iteration: \t15 / 50\n",
            "Confirmed: \t0\n",
            "Tentative: \t1\n",
            "Rejected: \t5\n",
            "Iteration: \t16 / 50\n",
            "Confirmed: \t0\n",
            "Tentative: \t1\n",
            "Rejected: \t5\n",
            "Iteration: \t17 / 50\n",
            "Confirmed: \t0\n",
            "Tentative: \t1\n",
            "Rejected: \t5\n",
            "Iteration: \t18 / 50\n",
            "Confirmed: \t0\n",
            "Tentative: \t1\n",
            "Rejected: \t5\n",
            "Iteration: \t19 / 50\n",
            "Confirmed: \t0\n",
            "Tentative: \t1\n",
            "Rejected: \t5\n",
            "Iteration: \t20 / 50\n",
            "Confirmed: \t0\n",
            "Tentative: \t1\n",
            "Rejected: \t5\n",
            "Iteration: \t21 / 50\n",
            "Confirmed: \t0\n",
            "Tentative: \t1\n",
            "Rejected: \t5\n",
            "Iteration: \t22 / 50\n",
            "Confirmed: \t0\n",
            "Tentative: \t1\n",
            "Rejected: \t5\n",
            "Iteration: \t23 / 50\n",
            "Confirmed: \t0\n",
            "Tentative: \t1\n",
            "Rejected: \t5\n",
            "Iteration: \t24 / 50\n",
            "Confirmed: \t0\n",
            "Tentative: \t1\n",
            "Rejected: \t5\n",
            "Iteration: \t25 / 50\n",
            "Confirmed: \t0\n",
            "Tentative: \t1\n",
            "Rejected: \t5\n",
            "Iteration: \t26 / 50\n",
            "Confirmed: \t1\n",
            "Tentative: \t0\n",
            "Rejected: \t5\n",
            "\n",
            "\n",
            "BorutaPy finished running.\n",
            "\n",
            "Iteration: \t27 / 50\n",
            "Confirmed: \t1\n",
            "Tentative: \t0\n",
            "Rejected: \t5\n",
            "\n",
            "RANKING\n",
            "\n",
            "Score: 1\n",
            "HSP: 2\n",
            "Deaths: 3\n",
            "Kills: 4\n",
            "Assists: 5\n",
            "MVP: 6\n"
          ]
        }
      ]
    },
    {
      "cell_type": "markdown",
      "source": [
        "**EXPLICAÇÃO:** Usando o boruta, vemos que tem 2 colunas com boa relação com o 'ping_class'."
      ],
      "metadata": {
        "id": "vB9TAg8AZj4B"
      }
    },
    {
      "cell_type": "code",
      "source": [
        "from sklearn.model_selection import train_test_split\n",
        "from imblearn.over_sampling import RandomOverSampler\n",
        "from sklearn.preprocessing import StandardScaler\n",
        "\n",
        "# separar as features e o target\n",
        "X = df3[['HSP', 'Score']]\n",
        "y = df3['ping_class']\n",
        "\n",
        "# dividir os dados em conjunto de treino e teste\n",
        "X_train, X_test, y_train, y_test = train_test_split(X, y, test_size=0.1, random_state=100)\n",
        "\n",
        "# normalizar as variáveis\n",
        "scaler = StandardScaler()\n",
        "X_train_scaled = scaler.fit_transform(X_train)\n",
        "X_test_scaled = scaler.transform(X_test)\n",
        "\n",
        "# aplicar o oversampling aos dados de treino\n",
        "oversample = RandomOverSampler()\n",
        "X_train_balanced, y_train_balanced = oversample.fit_resample(X_train, y_train)\n",
        "X_test_balanced, y_test_balanced = oversample.fit_resample(X_test, y_test)"
      ],
      "metadata": {
        "id": "Cbf-aPVZQKwC"
      },
      "execution_count": 71,
      "outputs": []
    },
    {
      "cell_type": "code",
      "source": [
        "rfc.fit(X_train_balanced, y_train_balanced)"
      ],
      "metadata": {
        "colab": {
          "base_uri": "https://localhost:8080/",
          "height": 92
        },
        "id": "fOtJp4D-2p7M",
        "outputId": "a907f2ea-cb1f-42ca-f901-413714553b1f"
      },
      "execution_count": 72,
      "outputs": [
        {
          "output_type": "execute_result",
          "data": {
            "text/plain": [
              "RandomForestClassifier(n_estimators=14,\n",
              "                       random_state=RandomState(MT19937) at 0x7F2F28253840)"
            ],
            "text/html": [
              "<style>#sk-container-id-5 {color: black;background-color: white;}#sk-container-id-5 pre{padding: 0;}#sk-container-id-5 div.sk-toggleable {background-color: white;}#sk-container-id-5 label.sk-toggleable__label {cursor: pointer;display: block;width: 100%;margin-bottom: 0;padding: 0.3em;box-sizing: border-box;text-align: center;}#sk-container-id-5 label.sk-toggleable__label-arrow:before {content: \"▸\";float: left;margin-right: 0.25em;color: #696969;}#sk-container-id-5 label.sk-toggleable__label-arrow:hover:before {color: black;}#sk-container-id-5 div.sk-estimator:hover label.sk-toggleable__label-arrow:before {color: black;}#sk-container-id-5 div.sk-toggleable__content {max-height: 0;max-width: 0;overflow: hidden;text-align: left;background-color: #f0f8ff;}#sk-container-id-5 div.sk-toggleable__content pre {margin: 0.2em;color: black;border-radius: 0.25em;background-color: #f0f8ff;}#sk-container-id-5 input.sk-toggleable__control:checked~div.sk-toggleable__content {max-height: 200px;max-width: 100%;overflow: auto;}#sk-container-id-5 input.sk-toggleable__control:checked~label.sk-toggleable__label-arrow:before {content: \"▾\";}#sk-container-id-5 div.sk-estimator input.sk-toggleable__control:checked~label.sk-toggleable__label {background-color: #d4ebff;}#sk-container-id-5 div.sk-label input.sk-toggleable__control:checked~label.sk-toggleable__label {background-color: #d4ebff;}#sk-container-id-5 input.sk-hidden--visually {border: 0;clip: rect(1px 1px 1px 1px);clip: rect(1px, 1px, 1px, 1px);height: 1px;margin: -1px;overflow: hidden;padding: 0;position: absolute;width: 1px;}#sk-container-id-5 div.sk-estimator {font-family: monospace;background-color: #f0f8ff;border: 1px dotted black;border-radius: 0.25em;box-sizing: border-box;margin-bottom: 0.5em;}#sk-container-id-5 div.sk-estimator:hover {background-color: #d4ebff;}#sk-container-id-5 div.sk-parallel-item::after {content: \"\";width: 100%;border-bottom: 1px solid gray;flex-grow: 1;}#sk-container-id-5 div.sk-label:hover label.sk-toggleable__label {background-color: #d4ebff;}#sk-container-id-5 div.sk-serial::before {content: \"\";position: absolute;border-left: 1px solid gray;box-sizing: border-box;top: 0;bottom: 0;left: 50%;z-index: 0;}#sk-container-id-5 div.sk-serial {display: flex;flex-direction: column;align-items: center;background-color: white;padding-right: 0.2em;padding-left: 0.2em;position: relative;}#sk-container-id-5 div.sk-item {position: relative;z-index: 1;}#sk-container-id-5 div.sk-parallel {display: flex;align-items: stretch;justify-content: center;background-color: white;position: relative;}#sk-container-id-5 div.sk-item::before, #sk-container-id-5 div.sk-parallel-item::before {content: \"\";position: absolute;border-left: 1px solid gray;box-sizing: border-box;top: 0;bottom: 0;left: 50%;z-index: -1;}#sk-container-id-5 div.sk-parallel-item {display: flex;flex-direction: column;z-index: 1;position: relative;background-color: white;}#sk-container-id-5 div.sk-parallel-item:first-child::after {align-self: flex-end;width: 50%;}#sk-container-id-5 div.sk-parallel-item:last-child::after {align-self: flex-start;width: 50%;}#sk-container-id-5 div.sk-parallel-item:only-child::after {width: 0;}#sk-container-id-5 div.sk-dashed-wrapped {border: 1px dashed gray;margin: 0 0.4em 0.5em 0.4em;box-sizing: border-box;padding-bottom: 0.4em;background-color: white;}#sk-container-id-5 div.sk-label label {font-family: monospace;font-weight: bold;display: inline-block;line-height: 1.2em;}#sk-container-id-5 div.sk-label-container {text-align: center;}#sk-container-id-5 div.sk-container {/* jupyter's `normalize.less` sets `[hidden] { display: none; }` but bootstrap.min.css set `[hidden] { display: none !important; }` so we also need the `!important` here to be able to override the default hidden behavior on the sphinx rendered scikit-learn.org. See: https://github.com/scikit-learn/scikit-learn/issues/21755 */display: inline-block !important;position: relative;}#sk-container-id-5 div.sk-text-repr-fallback {display: none;}</style><div id=\"sk-container-id-5\" class=\"sk-top-container\"><div class=\"sk-text-repr-fallback\"><pre>RandomForestClassifier(n_estimators=14,\n",
              "                       random_state=RandomState(MT19937) at 0x7F2F28253840)</pre><b>In a Jupyter environment, please rerun this cell to show the HTML representation or trust the notebook. <br />On GitHub, the HTML representation is unable to render, please try loading this page with nbviewer.org.</b></div><div class=\"sk-container\" hidden><div class=\"sk-item\"><div class=\"sk-estimator sk-toggleable\"><input class=\"sk-toggleable__control sk-hidden--visually\" id=\"sk-estimator-id-5\" type=\"checkbox\" checked><label for=\"sk-estimator-id-5\" class=\"sk-toggleable__label sk-toggleable__label-arrow\">RandomForestClassifier</label><div class=\"sk-toggleable__content\"><pre>RandomForestClassifier(n_estimators=14,\n",
              "                       random_state=RandomState(MT19937) at 0x7F2F28253840)</pre></div></div></div></div></div>"
            ]
          },
          "metadata": {},
          "execution_count": 72
        }
      ]
    },
    {
      "cell_type": "code",
      "source": [
        "y_test_prediction = rfc.predict(X_test_balanced)\n",
        "y_train_prediction = rfc.predict(X_train_balanced)"
      ],
      "metadata": {
        "id": "R07rTVJM2w4x"
      },
      "execution_count": 73,
      "outputs": []
    },
    {
      "cell_type": "code",
      "source": [
        "from sklearn.metrics import classification_report\n",
        "\n",
        "# Metricas de precisão, revocação, f1-score e acurácia.\n",
        "print('TESTE')\n",
        "print(classification_report(y_test_balanced, y_test_prediction))\n",
        "print()\n",
        "print('TREINO')\n",
        "print(classification_report(y_train_balanced, y_train_prediction))"
      ],
      "metadata": {
        "colab": {
          "base_uri": "https://localhost:8080/"
        },
        "id": "JCpM8-Ht2u0Q",
        "outputId": "994d22b4-510a-4d03-c09a-59774cda2abf"
      },
      "execution_count": 74,
      "outputs": [
        {
          "output_type": "stream",
          "name": "stdout",
          "text": [
            "TESTE\n",
            "              precision    recall  f1-score   support\n",
            "\n",
            "   aceitavel       0.33      0.57      0.42      1669\n",
            "       otimo       0.43      0.42      0.42      1669\n",
            "        ruim       0.47      0.14      0.21      1669\n",
            "\n",
            "    accuracy                           0.37      5007\n",
            "   macro avg       0.41      0.37      0.35      5007\n",
            "weighted avg       0.41      0.37      0.35      5007\n",
            "\n",
            "\n",
            "TREINO\n",
            "              precision    recall  f1-score   support\n",
            "\n",
            "   aceitavel       0.70      0.62      0.66     14847\n",
            "       otimo       0.68      0.66      0.67     14847\n",
            "        ruim       0.87      1.00      0.93     14847\n",
            "\n",
            "    accuracy                           0.76     44541\n",
            "   macro avg       0.75      0.76      0.75     44541\n",
            "weighted avg       0.75      0.76      0.75     44541\n",
            "\n"
          ]
        }
      ]
    },
    {
      "cell_type": "markdown",
      "source": [
        "**CONCLUSÃO:** As predições de treino estão bem distantes das de teste o que indica grande chance de overfitting pelo modelo. Ou seja, além de pouca precisão, não há ou tem pouca relação entre 'ping' e 'death' no dataset, corroborando com os estudos anteriores desse item b.\n",
        "\n",
        "O overfitting pode ter sido influenciado pelo uso do oversampling a fim de equilibrar a quantidade de dados entre as classes. Entretanto, outros testes foram feitos sem o oversampling e, da mesma forma, o vício modelo não pôde ser evitado."
      ],
      "metadata": {
        "id": "hsh-HFYBaewm"
      }
    }
  ],
  "metadata": {
    "kernelspec": {
      "display_name": "Python 3",
      "language": "python",
      "name": "python3"
    },
    "language_info": {
      "codemirror_mode": {
        "name": "ipython",
        "version": 3
      },
      "file_extension": ".py",
      "mimetype": "text/x-python",
      "name": "python",
      "nbconvert_exporter": "python",
      "pygments_lexer": "ipython3",
      "version": "3.9.5"
    },
    "colab": {
      "provenance": [],
      "collapsed_sections": [
        "fFw0a5Pkx4n_",
        "KmeuVxdSyu9Y",
        "uwm5pau5eyPH",
        "tx9YF4rMwunm",
        "uGOqXf0_wf3V"
      ],
      "gpuType": "T4"
    },
    "accelerator": "GPU",
    "gpuClass": "standard"
  },
  "nbformat": 4,
  "nbformat_minor": 0
}